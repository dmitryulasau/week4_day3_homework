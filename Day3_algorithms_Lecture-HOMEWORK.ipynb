{
 "cells": [
  {
   "cell_type": "markdown",
   "metadata": {},
   "source": [
    "# Classic Algorithms"
   ]
  },
  {
   "cell_type": "markdown",
   "metadata": {},
   "source": [
    "## Tasks Today:\n",
    " \n",
    "1) <b>In-Place Algorithms</b> <br>\n",
    " &nbsp;&nbsp;&nbsp;&nbsp; a) Syntax <br>\n",
    " &nbsp;&nbsp;&nbsp;&nbsp; a) Out of Place Algorithm <br>\n",
    " &nbsp;&nbsp;&nbsp;&nbsp; b) In-Class Exercise #1 <br>\n",
    "2) <b>Two Pointers</b> <br>\n",
    "3) <b>Sorting Algorithms</b> <br>\n",
    "4) <b>Merge Sort</b> <br>\n",
    " &nbsp;&nbsp;&nbsp;&nbsp; a) Video on Algorithms <br>\n",
    " &nbsp;&nbsp;&nbsp;&nbsp; b) How it Works <br>\n",
    "5) <b>Exercises</b> <br>\n",
    " &nbsp;&nbsp;&nbsp;&nbsp; a) Exercise #1 - Reverse a List in Place Using an In-Place Algorithm <br>\n",
    " &nbsp;&nbsp;&nbsp;&nbsp; b) Exercise #2 - Find Distinct Words <br>\n",
    " &nbsp;&nbsp;&nbsp;&nbsp; c) Exercise #3 - Write a program to implement a Linear Search Algorithm. <br>"
   ]
  },
  {
   "cell_type": "markdown",
   "metadata": {},
   "source": [
    "## In-Place Algorithms"
   ]
  },
  {
   "cell_type": "markdown",
   "metadata": {},
   "source": [
    "#### Syntax"
   ]
  },
  {
   "cell_type": "code",
   "execution_count": 30,
   "metadata": {},
   "outputs": [
    {
     "name": "stdout",
     "output_type": "stream",
     "text": [
      "[20, 4, 10]\n",
      "None\n",
      "[10, 4, 20]\n"
     ]
    }
   ],
   "source": [
    "# in PLACE\n",
    "def swap(alist, x, y, z):\n",
    "    alist[x], alist[y], alist[z] = alist[z], alist[y], alist[x]\n",
    "    \n",
    "my_list = [20, 4, 10]\n",
    "print(my_list)\n",
    "print(swap(my_list, 0, 1, 2))\n",
    "print(my_list)"
   ]
  },
  {
   "cell_type": "markdown",
   "metadata": {},
   "source": [
    "#### Out of Place Algorithm"
   ]
  },
  {
   "cell_type": "code",
   "execution_count": 36,
   "metadata": {},
   "outputs": [
    {
     "name": "stdout",
     "output_type": "stream",
     "text": [
      "['a', 'b', 'c', 'd']\n",
      "['d', 'c', 'b', 'a']\n",
      "['a', 'b', 'c', 'd']\n"
     ]
    }
   ],
   "source": [
    "array = ['a', 'b', 'c', 'd']\n",
    "def outop(array):\n",
    "    new_array = ['a'] * len(array)\n",
    "    length = len(array) - 1\n",
    "    for i in range(length):\n",
    "        new_array[i] = array[length - i]\n",
    "    return new_array\n",
    "        \n",
    "print(array)\n",
    "print(outop(array))\n",
    "print(array)"
   ]
  },
  {
   "cell_type": "markdown",
   "metadata": {},
   "source": [
    "#### In-Class Exercise #1 <br>\n",
    "<p>Write a function that takes in four arguments (list, index1, index2, index3), and swaps those three positions in the list passed in.</p>"
   ]
  },
  {
   "cell_type": "code",
   "execution_count": 42,
   "metadata": {},
   "outputs": [
    {
     "name": "stdout",
     "output_type": "stream",
     "text": [
      "[3, 8, 4]\n"
     ]
    }
   ],
   "source": [
    "l = [4, 8, 3]\n",
    "def swap_l(alist, index1, index2, index3):\n",
    "    alist[index1], alist[index2], alist[index3] = alist[index3], alist[index2], alist[index1]\n",
    "    return alist\n",
    "\n",
    "print(swap_l(l, 0, 1, 2))"
   ]
  },
  {
   "cell_type": "markdown",
   "metadata": {},
   "source": [
    "## Two Pointers"
   ]
  },
  {
   "cell_type": "markdown",
   "metadata": {},
   "source": [
    "#### Syntax"
   ]
  },
  {
   "cell_type": "code",
   "execution_count": 6,
   "metadata": {},
   "outputs": [
    {
     "data": {
      "text/plain": [
       "[22, 11, 4, 8, 9, 12, 3, 2, 1]"
      ]
     },
     "execution_count": 6,
     "metadata": {},
     "output_type": "execute_result"
    }
   ],
   "source": []
  },
  {
   "cell_type": "markdown",
   "metadata": {},
   "source": [
    "#### Video of Algorithms <br>\n",
    "<p>Watch the video about algorithms.</p>\n",
    "\n",
    "https://www.youtube.com/watch?v=Q9HjeFD62Uk\n",
    "\n",
    "https://www.youtube.com/watch?v=kPRA0W1kECg\n",
    "\n",
    "https://www.youtube.com/watch?v=ZZuD6iUe3Pc"
   ]
  },
  {
   "cell_type": "markdown",
   "metadata": {},
   "source": [
    "# Sorting Algorithms"
   ]
  },
  {
   "cell_type": "markdown",
   "metadata": {},
   "source": [
    "#### Bubble Sort\n",
    "\n",
    "Worst Case: O(n^2) Time - O(1) Space"
   ]
  },
  {
   "cell_type": "code",
   "execution_count": 46,
   "metadata": {},
   "outputs": [
    {
     "name": "stdout",
     "output_type": "stream",
     "text": [
      "[22, 34, 55, 58, 58, 66, 77, 88]\n"
     ]
    }
   ],
   "source": [
    "def swap(i, j, array):\n",
    "    array[i], array[j] = array[j], array[i]\n",
    "    \n",
    "\n",
    "def bubble_sort(array):\n",
    "    isSorted = False\n",
    "    while not isSorted:\n",
    "        isSorted = True\n",
    "        for num in range(len(array) - 1):\n",
    "            if array[num] > array[num + 1]:\n",
    "                swap(num, num + 1, array)\n",
    "                isSorted = False\n",
    "    return array\n",
    "\n",
    "print(bubble_sort([22, 88, 34, 55, 58, 66, 77, 58]))"
   ]
  },
  {
   "cell_type": "code",
   "execution_count": null,
   "metadata": {},
   "outputs": [],
   "source": [
    "\n",
    "    "
   ]
  },
  {
   "cell_type": "markdown",
   "metadata": {},
   "source": [
    "##### Insertion Sort\n",
    "\n",
    "Worst Case: O(n^2) time - O(1)space"
   ]
  },
  {
   "cell_type": "code",
   "execution_count": 52,
   "metadata": {},
   "outputs": [
    {
     "name": "stdout",
     "output_type": "stream",
     "text": [
      "[22, 34, 55, 58, 58, 66, 77, 88]\n"
     ]
    }
   ],
   "source": [
    "def swap(i, j, array):\n",
    "    array[i], array[j] = array[j], array[i]\n",
    "    \n",
    "def insertions_sort(array):\n",
    "    for i in range(1, len(array)):\n",
    "        j = i\n",
    "        while j > 0 and array[j] < array[j-1]:\n",
    "            swap(j, j-1, array)\n",
    "            j -= 1\n",
    "    return array\n",
    "\n",
    "print(insertions_sort([22, 88, 34, 55, 58, 66, 77, 58]))"
   ]
  },
  {
   "cell_type": "markdown",
   "metadata": {},
   "source": [
    "## Merge Sort"
   ]
  },
  {
   "cell_type": "markdown",
   "metadata": {},
   "source": [
    "#### How it Works"
   ]
  },
  {
   "cell_type": "code",
   "execution_count": null,
   "metadata": {},
   "outputs": [],
   "source": []
  },
  {
   "cell_type": "markdown",
   "metadata": {},
   "source": [
    "## Binary Search Trees\n",
    "\n",
    "Linked list is to List as BST is to Dictionary"
   ]
  },
  {
   "cell_type": "code",
   "execution_count": 9,
   "metadata": {},
   "outputs": [
    {
     "name": "stdout",
     "output_type": "stream",
     "text": [
      "756\n",
      "12\n",
      "True\n",
      "False\n",
      "True\n",
      "====================\n",
      "12\n",
      "23\n",
      "33\n",
      "39\n",
      "40\n",
      "43\n",
      "56\n",
      "756\n"
     ]
    }
   ],
   "source": [
    "class BST():\n",
    "    def __init__(self, value):\n",
    "        self.value = value # current value\n",
    "        self.left = None\n",
    "        self.right = None\n",
    "    \n",
    "    def insert(self, value):\n",
    "        if value < self.value:\n",
    "            if self.left is None:\n",
    "                self.left = BST(value)\n",
    "            else:\n",
    "                self.left.insert(value)\n",
    "        else:\n",
    "            if self.right is None:\n",
    "                self.right = BST(value)\n",
    "            else:\n",
    "                self.right.insert(value)\n",
    "        \n",
    "        return self\n",
    "    \n",
    "    def contains(self, value):\n",
    "        if value < self.value:\n",
    "            if self.left is None:\n",
    "                return False\n",
    "            else:\n",
    "                return self.left.contains(value)\n",
    "        elif value > self.value:\n",
    "            \n",
    "            if self.right is None:\n",
    "                return False\n",
    "            else:\n",
    "                return self.right.contains(value)\n",
    "        \n",
    "        else:\n",
    "            \n",
    "            return True\n",
    "        \n",
    "    \n",
    "    def get_min_value(self):\n",
    "        if self.left is None:\n",
    "            return self.value\n",
    "        else:\n",
    "            return self.left.get_min_value()\n",
    "        \n",
    "        \n",
    "    def get_max_value(self):\n",
    "        if self.right is None:\n",
    "            return self.value\n",
    "        else:\n",
    "            return self.right.get_max_value()\n",
    "        \n",
    "    def inorder(self, root):\n",
    "        if root :\n",
    "            self.inorder(root.left)\n",
    "            print(root.value)\n",
    "            self.inorder(root.right)\n",
    "\n",
    "            \n",
    "bst_example = BST(39)\n",
    "bst_example.insert(40)\n",
    "bst_example.insert(43)\n",
    "bst_example.insert(56)\n",
    "bst_example.insert(33)\n",
    "bst_example.insert(23)\n",
    "bst_example.insert(12)\n",
    "bst_example.insert(756)\n",
    "\n",
    "print(bst_example.get_max_value())\n",
    "print(bst_example.get_min_value())\n",
    "print(bst_example.contains(40))\n",
    "print(bst_example.contains(20))\n",
    "print(bst_example.contains(40))\n",
    "\n",
    "print('=' * 20)\n",
    "bst_example.inorder(bst_example)\n"
   ]
  },
  {
   "cell_type": "markdown",
   "metadata": {},
   "source": [
    "## In Class Exercise\n",
    "\n",
    "Invert a Binary Tree"
   ]
  },
  {
   "cell_type": "code",
   "execution_count": 8,
   "metadata": {},
   "outputs": [
    {
     "name": "stdout",
     "output_type": "stream",
     "text": [
      "756\n",
      "56\n",
      "43\n",
      "40\n",
      "39\n",
      "33\n",
      "23\n",
      "12\n"
     ]
    }
   ],
   "source": [
    "def invertTree(root):\n",
    "    if root:\n",
    "        invertTree(root.left)\n",
    "        invertTree(root.right)\n",
    "        \n",
    "        root.left, root.right = root.right, root.left\n",
    "        \n",
    "invertTree(bst_example)\n",
    "bst_example.inorder(bst_example)"
   ]
  },
  {
   "cell_type": "code",
   "execution_count": null,
   "metadata": {},
   "outputs": [],
   "source": [
    "# Implement a function that receives a string, and lets you extend it with repeated calls.\n",
    "# When no argument is passed you should return a string consisting of space-separated words you've received earlier.\n",
    "\n",
    "# Note: there will always be at least 1 string; all inputs will be non-empty.\n",
    "\n",
    "# For example:\n",
    "\n",
    "# create_message(\"Hello\")(\"World!\")(\"how\")(\"are\")(\"you?\")() == \"Hello World! how are you?\""
   ]
  },
  {
   "cell_type": "code",
   "execution_count": 21,
   "metadata": {
    "scrolled": true
   },
   "outputs": [
    {
     "name": "stdout",
     "output_type": "stream",
     "text": [
      "Hello World! how are you?\n"
     ]
    }
   ],
   "source": [
    "def create_message(s):\n",
    "    def fun(s0 = None):\n",
    "        if s0 == None:\n",
    "            return s\n",
    "        else:\n",
    "            return create_message(s+' '+s0)\n",
    "    \n",
    "    return fun;\n",
    "\n",
    "print(create_message(\"Hello\")(\"World!\")(\"how\")(\"are\")(\"you?\")())"
   ]
  },
  {
   "cell_type": "markdown",
   "metadata": {},
   "source": [
    "# Exercises"
   ]
  },
  {
   "cell_type": "markdown",
   "metadata": {},
   "source": [
    "### Exercise #1 <br>\n",
    "<p>Reverse the list below in-place using an in-place algorithm.<br>For extra credit: Reverse the strings at the same time.</p>"
   ]
  },
  {
   "cell_type": "code",
   "execution_count": 126,
   "metadata": {},
   "outputs": [
    {
     "name": "stdout",
     "output_type": "stream",
     "text": [
      "['.', 'sentence', 'a', 'is', 'this']\n"
     ]
    }
   ],
   "source": [
    "words = ['this' , 'is', 'a', 'sentence', '.']\n",
    "def reverse_elements(lst):\n",
    "    \"\"\"Reverse list in-place\"\"\"\n",
    "    length = len(lst)\n",
    "    for i in range(length // 2):\n",
    "        lst[i], lst[length - 1 - i] = lst[length - 1 - i], lst[i]\n",
    "        \n",
    "    return lst\n",
    "\n",
    "reverse_elements(words)\n",
    "print(words)\n"
   ]
  },
  {
   "cell_type": "code",
   "execution_count": 133,
   "metadata": {},
   "outputs": [
    {
     "name": "stdout",
     "output_type": "stream",
     "text": [
      "['.', 'ecnetnes', 'a', 'si', 'siht']\n"
     ]
    }
   ],
   "source": [
    "words = ['this' , 'is', 'a', 'sentence', '.']\n",
    "def reverse(lst):\n",
    "    \"\"\"Reverse list in-place and reverse characters in  list's elements\"\"\"\n",
    "    \n",
    "    length = len(lst) # length of a list\n",
    "    \n",
    "    for i in range(length): # loop through each element(WORD) in the list, (i - index)\n",
    "        \n",
    "        word_list = list(lst[i]) # convert each WORD in the list to ['W', 'O', 'R', 'D'] list\n",
    "        length_w = len(word_list) # length of the ['W', 'O', 'R', 'D'] list\n",
    "        \n",
    "        # use in-place algoritm to each ['W', 'O', 'R', 'D'] list\n",
    "        for j in range(length_w // 2): # loop through each element(LETTER) in the ['W', 'O', 'R', 'D'] list, (j - index)\n",
    "            word_list[j], word_list[length_w - 1 - j] = word_list[length_w - 1 - j], word_list[j]\n",
    "            # EX. ['W', 'O', 'R', 'D'] - length = 4, index [0] - W, [4 - 1 - 0 = 3] - D\n",
    "        \n",
    "        lst[i] = \"\".join(word_list) # convert reversed ['D', 'R', 'O', 'W'] list to a string 'drow'\n",
    "        \n",
    "    # use in-place algoritm to our list (lst)\n",
    "    for i in range(length // 2):\n",
    "        lst[i], lst[length - 1 - i] = lst[length - 1 - i], lst[i]\n",
    "              \n",
    "    return lst\n",
    "\n",
    "reverse(words)\n",
    "print(words) "
   ]
  },
  {
   "cell_type": "markdown",
   "metadata": {},
   "source": [
    "### Exercise #2 <br>\n",
    "<p>Create a function that counts how many distinct words are in the string below, then outputs a dictionary with the words as the key and the value as the amount of times that word appears in the string.<br>Should output:<br>{'a': 5,<br>\n",
    " 'abstract': 1,<br>\n",
    " 'an': 3,<br>\n",
    " 'array': 2, ... etc...</p>"
   ]
  },
  {
   "cell_type": "code",
   "execution_count": 177,
   "metadata": {
    "scrolled": true
   },
   "outputs": [
    {
     "data": {
      "text/plain": [
       "{'a': 5,\n",
       " 'abstract': 1,\n",
       " 'an': 3,\n",
       " 'array': 2,\n",
       " 'associative': 1,\n",
       " 'be': 1,\n",
       " 'buckets': 1,\n",
       " 'can': 2,\n",
       " 'compute': 1,\n",
       " 'data': 2,\n",
       " 'desired': 1,\n",
       " 'found': 1,\n",
       " 'from': 1,\n",
       " 'function': 1,\n",
       " 'hash': 4,\n",
       " 'implements': 1,\n",
       " 'in': 1,\n",
       " 'index': 1,\n",
       " 'into': 1,\n",
       " 'is': 1,\n",
       " 'keys': 1,\n",
       " 'map': 2,\n",
       " 'of': 1,\n",
       " 'or': 1,\n",
       " 'slots': 1,\n",
       " 'structure': 2,\n",
       " 'table': 2,\n",
       " 'that': 1,\n",
       " 'the': 1,\n",
       " 'to': 2,\n",
       " 'uses': 1,\n",
       " 'value': 1,\n",
       " 'which': 2}"
      ]
     },
     "execution_count": 177,
     "metadata": {},
     "output_type": "execute_result"
    }
   ],
   "source": [
    "a_text = 'In computing, a hash table hash map is a data structure which implements an associative array abstract data type, a structure that can map keys to values. A hash table uses a hash function to compute an index into an array of buckets or slots from which the desired value can be found'\n",
    "def library(text):\n",
    "    \"\"\"Counts distinct words in the text\"\"\"\n",
    "    lib = {}\n",
    "        \n",
    "    text_list = [word.lower().strip() for word in text.split(\" \") if word.isalpha()]\n",
    "        \n",
    "    for item in text_list:\n",
    "        if item not in lib:\n",
    "            lib[item] = 1\n",
    "        else:\n",
    "            lib[item] += 1\n",
    "    \n",
    "    return dict(sorted(lib.items()))\n",
    "            \n",
    "library(a_text)"
   ]
  },
  {
   "cell_type": "markdown",
   "metadata": {},
   "source": [
    "## Exercise #3\n",
    "\n",
    "Write a program to implement a Linear Search Algorithm. Also in a comment, write the Time Complexity of the following algorithm.\n",
    "\n",
    "#### Hint: Linear Searching will require searching a list for a given number. \n",
    "#### If number is not present return -1"
   ]
  },
  {
   "cell_type": "code",
   "execution_count": 134,
   "metadata": {},
   "outputs": [
    {
     "name": "stdout",
     "output_type": "stream",
     "text": [
      "3\n"
     ]
    }
   ],
   "source": [
    "nums_list = [10,23,45,70,11,15]\n",
    "target = 70\n",
    "\n",
    "# Linear Time Complexity: O(n)\n",
    "\n",
    "def find_me(lst, target):\n",
    "    for index, number in enumerate(lst):\n",
    "        if number == target:\n",
    "            return index\n",
    "        \n",
    "    return - 1\n",
    "\n",
    "print(find_me(nums_list, target))"
   ]
  },
  {
   "cell_type": "code",
   "execution_count": null,
   "metadata": {},
   "outputs": [],
   "source": []
  }
 ],
 "metadata": {
  "kernelspec": {
   "display_name": "Python 3 (ipykernel)",
   "language": "python",
   "name": "python3"
  },
  "language_info": {
   "codemirror_mode": {
    "name": "ipython",
    "version": 3
   },
   "file_extension": ".py",
   "mimetype": "text/x-python",
   "name": "python",
   "nbconvert_exporter": "python",
   "pygments_lexer": "ipython3",
   "version": "3.9.12"
  }
 },
 "nbformat": 4,
 "nbformat_minor": 2
}
